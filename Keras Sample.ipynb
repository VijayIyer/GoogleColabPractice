{
  "nbformat": 4,
  "nbformat_minor": 0,
  "metadata": {
    "colab": {
      "name": "Untitled3.ipynb",
      "provenance": [],
      "toc_visible": true,
      "authorship_tag": "ABX9TyMr206jlUIFfOcPWBujIKnX",
      "include_colab_link": true
    },
    "kernelspec": {
      "name": "python3",
      "display_name": "Python 3"
    }
  },
  "cells": [
    {
      "cell_type": "markdown",
      "metadata": {
        "id": "view-in-github",
        "colab_type": "text"
      },
      "source": [
        "<a href=\"https://colab.research.google.com/github/VijayIyer/GoogleColabPractice/blob/main/Keras%20Sample.ipynb\" target=\"_parent\"><img src=\"https://colab.research.google.com/assets/colab-badge.svg\" alt=\"Open In Colab\"/></a>"
      ]
    },
    {
      "cell_type": "code",
      "metadata": {
        "colab": {
          "resources": {
            "http://localhost:8080/nbextensions/google.colab/files.js": {
              "data": "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",
              "ok": true,
              "headers": [
                [
                  "content-type",
                  "application/javascript"
                ]
              ],
              "status": 200,
              "status_text": ""
            }
          },
          "base_uri": "https://localhost:8080/",
          "height": 72
        },
        "id": "tU563-A0OyD8",
        "outputId": "32fc46ca-f23b-4d34-fd61-c0ad0909278d"
      },
      "source": [
        "from google.colab import files\r\n",
        "uploaded = files.upload()"
      ],
      "execution_count": 1,
      "outputs": [
        {
          "output_type": "display_data",
          "data": {
            "text/html": [
              "\n",
              "     <input type=\"file\" id=\"files-d61c1b9a-dd28-4e5c-8a54-07e8975e6dae\" name=\"files[]\" multiple disabled\n",
              "        style=\"border:none\" />\n",
              "     <output id=\"result-d61c1b9a-dd28-4e5c-8a54-07e8975e6dae\">\n",
              "      Upload widget is only available when the cell has been executed in the\n",
              "      current browser session. Please rerun this cell to enable.\n",
              "      </output>\n",
              "      <script src=\"/nbextensions/google.colab/files.js\"></script> "
            ],
            "text/plain": [
              "<IPython.core.display.HTML object>"
            ]
          },
          "metadata": {
            "tags": []
          }
        },
        {
          "output_type": "stream",
          "text": [
            "Saving pima-indians-diabetes.data.csv to pima-indians-diabetes.data.csv\n"
          ],
          "name": "stdout"
        }
      ]
    },
    {
      "cell_type": "code",
      "metadata": {
        "colab": {
          "base_uri": "https://localhost:8080/"
        },
        "id": "Dj5hrdsBWYzk",
        "outputId": "4fe2ef10-092f-4a89-9cca-05b1ca9e4cc6"
      },
      "source": [
        "# first neural network with keras tutorial\r\n",
        "from numpy import loadtxt\r\n",
        "from keras.models import Sequential\r\n",
        "from keras.layers import Dense\r\n",
        "..."
      ],
      "execution_count": 23,
      "outputs": [
        {
          "output_type": "execute_result",
          "data": {
            "text/plain": [
              "Ellipsis"
            ]
          },
          "metadata": {
            "tags": []
          },
          "execution_count": 23
        }
      ]
    },
    {
      "cell_type": "code",
      "metadata": {
        "colab": {
          "base_uri": "https://localhost:8080/"
        },
        "id": "WBLm7eLAWkG7",
        "outputId": "562315be-63d5-4187-a864-eb8d4d00dce1"
      },
      "source": [
        "from google.colab import drive\r\n",
        "drive.mount('/content/gdrive')"
      ],
      "execution_count": 24,
      "outputs": [
        {
          "output_type": "stream",
          "text": [
            "Drive already mounted at /content/gdrive; to attempt to forcibly remount, call drive.mount(\"/content/gdrive\", force_remount=True).\n"
          ],
          "name": "stdout"
        }
      ]
    },
    {
      "cell_type": "code",
      "metadata": {
        "colab": {
          "base_uri": "https://localhost:8080/"
        },
        "id": "vFDxy_XOYCzf",
        "outputId": "e84a6121-11dc-41c3-bc5a-c39a77b2ce99"
      },
      "source": [
        "import pandas as pd\r\n",
        "df = pd.read_csv('/content/pima-indians-diabetes.data.csv',header=None)\r\n",
        "df.to_numpy()\r\n"
      ],
      "execution_count": 50,
      "outputs": [
        {
          "output_type": "execute_result",
          "data": {
            "text/plain": [
              "array([[  6.   , 148.   ,  72.   , ...,   0.627,  50.   ,   1.   ],\n",
              "       [  1.   ,  85.   ,  66.   , ...,   0.351,  31.   ,   0.   ],\n",
              "       [  8.   , 183.   ,  64.   , ...,   0.672,  32.   ,   1.   ],\n",
              "       ...,\n",
              "       [  5.   , 121.   ,  72.   , ...,   0.245,  30.   ,   0.   ],\n",
              "       [  1.   , 126.   ,  60.   , ...,   0.349,  47.   ,   1.   ],\n",
              "       [  1.   ,  93.   ,  70.   , ...,   0.315,  23.   ,   0.   ]])"
            ]
          },
          "metadata": {
            "tags": []
          },
          "execution_count": 50
        }
      ]
    },
    {
      "cell_type": "code",
      "metadata": {
        "id": "ffydkEqldMER"
      },
      "source": [
        "import numpy as np\r\n",
        "msk = np.random.rand(len(df)) < 0.8\r\n",
        "train = df[msk]\r\n",
        "\r\n",
        "test = df[~msk]"
      ],
      "execution_count": 51,
      "outputs": []
    },
    {
      "cell_type": "code",
      "metadata": {
        "id": "ssfYMd5zdX_7"
      },
      "source": [
        "X_train = train.iloc[:,0:8]\r\n",
        "y_train = train.iloc[:,8]\r\n",
        "X_test = test.iloc[:,0:8]\r\n",
        "y_test = test.iloc[:,8]"
      ],
      "execution_count": 52,
      "outputs": []
    },
    {
      "cell_type": "code",
      "metadata": {
        "id": "-9yY_XB7eMYP"
      },
      "source": [
        "\r\n",
        "4\r\n",
        "5\r\n",
        "6\r\n",
        "7\r\n",
        "...\r\n",
        "# define the keras model\r\n",
        "model = Sequential()\r\n",
        "model.add(Dense(30, input_dim=8, activation='relu'))\r\n",
        "model.add(Dense(8, activation='relu'))\r\n",
        "model.add(Dense(1, activation='sigmoid'))"
      ],
      "execution_count": 53,
      "outputs": []
    },
    {
      "cell_type": "code",
      "metadata": {
        "colab": {
          "base_uri": "https://localhost:8080/"
        },
        "id": "ayQngB54h5OY",
        "outputId": "d4cdb12c-4bb5-4b38-a74a-408e6de4fe3d"
      },
      "source": [
        "y_train"
      ],
      "execution_count": 54,
      "outputs": [
        {
          "output_type": "execute_result",
          "data": {
            "text/plain": [
              "0      1\n",
              "1      0\n",
              "2      1\n",
              "5      0\n",
              "6      1\n",
              "      ..\n",
              "763    0\n",
              "764    0\n",
              "765    0\n",
              "766    1\n",
              "767    0\n",
              "Name: 8, Length: 628, dtype: int64"
            ]
          },
          "metadata": {
            "tags": []
          },
          "execution_count": 54
        }
      ]
    },
    {
      "cell_type": "code",
      "metadata": {
        "colab": {
          "base_uri": "https://localhost:8080/"
        },
        "id": "b0xvklvteNfH",
        "outputId": "923b81b1-45b0-4639-e7ea-5fa6c2606f24"
      },
      "source": [
        "...\r\n",
        "# compile the keras model\r\n",
        "model.compile(loss='binary_crossentropy', optimizer='adam', metrics=['accuracy'])\r\n",
        "..."
      ],
      "execution_count": 55,
      "outputs": [
        {
          "output_type": "execute_result",
          "data": {
            "text/plain": [
              "Ellipsis"
            ]
          },
          "metadata": {
            "tags": []
          },
          "execution_count": 55
        }
      ]
    },
    {
      "cell_type": "code",
      "metadata": {
        "colab": {
          "base_uri": "https://localhost:8080/"
        },
        "id": "wKGsmie4f7M6",
        "outputId": "595cde34-0087-422a-cb55-472368629eb7"
      },
      "source": [
        "...\r\n",
        "# fit the keras model on the dataset\r\n",
        "model.fit(X_train, y_train, epochs=150, batch_size=150)\r\n",
        "..."
      ],
      "execution_count": 61,
      "outputs": [
        {
          "output_type": "stream",
          "text": [
            "Epoch 1/150\n",
            "5/5 [==============================] - 0s 2ms/step - loss: 0.4504 - accuracy: 0.7357\n",
            "Epoch 2/150\n",
            "5/5 [==============================] - 0s 3ms/step - loss: 0.4371 - accuracy: 0.7532\n",
            "Epoch 3/150\n",
            "5/5 [==============================] - 0s 2ms/step - loss: 0.4417 - accuracy: 0.7484\n",
            "Epoch 4/150\n",
            "5/5 [==============================] - 0s 3ms/step - loss: 0.4385 - accuracy: 0.7500\n",
            "Epoch 5/150\n",
            "5/5 [==============================] - 0s 2ms/step - loss: 0.4423 - accuracy: 0.7532\n",
            "Epoch 6/150\n",
            "5/5 [==============================] - 0s 2ms/step - loss: 0.4369 - accuracy: 0.7564\n",
            "Epoch 7/150\n",
            "5/5 [==============================] - 0s 3ms/step - loss: 0.4460 - accuracy: 0.7452\n",
            "Epoch 8/150\n",
            "5/5 [==============================] - 0s 2ms/step - loss: 0.4368 - accuracy: 0.7532\n",
            "Epoch 9/150\n",
            "5/5 [==============================] - 0s 2ms/step - loss: 0.4383 - accuracy: 0.7596\n",
            "Epoch 10/150\n",
            "5/5 [==============================] - 0s 4ms/step - loss: 0.4424 - accuracy: 0.7548\n",
            "Epoch 11/150\n",
            "5/5 [==============================] - 0s 2ms/step - loss: 0.4492 - accuracy: 0.7532\n",
            "Epoch 12/150\n",
            "5/5 [==============================] - 0s 2ms/step - loss: 0.4567 - accuracy: 0.7500\n",
            "Epoch 13/150\n",
            "5/5 [==============================] - 0s 3ms/step - loss: 0.4505 - accuracy: 0.7452\n",
            "Epoch 14/150\n",
            "5/5 [==============================] - 0s 2ms/step - loss: 0.4521 - accuracy: 0.7500\n",
            "Epoch 15/150\n",
            "5/5 [==============================] - 0s 2ms/step - loss: 0.4443 - accuracy: 0.7500\n",
            "Epoch 16/150\n",
            "5/5 [==============================] - 0s 3ms/step - loss: 0.4396 - accuracy: 0.7564\n",
            "Epoch 17/150\n",
            "5/5 [==============================] - 0s 3ms/step - loss: 0.4400 - accuracy: 0.7548\n",
            "Epoch 18/150\n",
            "5/5 [==============================] - 0s 3ms/step - loss: 0.4355 - accuracy: 0.7548\n",
            "Epoch 19/150\n",
            "5/5 [==============================] - 0s 3ms/step - loss: 0.4396 - accuracy: 0.7548\n",
            "Epoch 20/150\n",
            "5/5 [==============================] - 0s 3ms/step - loss: 0.4354 - accuracy: 0.7564\n",
            "Epoch 21/150\n",
            "5/5 [==============================] - 0s 3ms/step - loss: 0.4358 - accuracy: 0.7532\n",
            "Epoch 22/150\n",
            "5/5 [==============================] - 0s 3ms/step - loss: 0.4376 - accuracy: 0.7516\n",
            "Epoch 23/150\n",
            "5/5 [==============================] - 0s 3ms/step - loss: 0.4379 - accuracy: 0.7468\n",
            "Epoch 24/150\n",
            "5/5 [==============================] - 0s 3ms/step - loss: 0.4352 - accuracy: 0.7596\n",
            "Epoch 25/150\n",
            "5/5 [==============================] - 0s 3ms/step - loss: 0.4345 - accuracy: 0.7580\n",
            "Epoch 26/150\n",
            "5/5 [==============================] - 0s 4ms/step - loss: 0.4361 - accuracy: 0.7564\n",
            "Epoch 27/150\n",
            "5/5 [==============================] - 0s 3ms/step - loss: 0.4351 - accuracy: 0.7516\n",
            "Epoch 28/150\n",
            "5/5 [==============================] - 0s 3ms/step - loss: 0.4393 - accuracy: 0.7452\n",
            "Epoch 29/150\n",
            "5/5 [==============================] - 0s 3ms/step - loss: 0.4421 - accuracy: 0.7484\n",
            "Epoch 30/150\n",
            "5/5 [==============================] - 0s 3ms/step - loss: 0.4373 - accuracy: 0.7516\n",
            "Epoch 31/150\n",
            "5/5 [==============================] - 0s 3ms/step - loss: 0.4373 - accuracy: 0.7500\n",
            "Epoch 32/150\n",
            "5/5 [==============================] - 0s 3ms/step - loss: 0.4477 - accuracy: 0.7500\n",
            "Epoch 33/150\n",
            "5/5 [==============================] - 0s 3ms/step - loss: 0.4369 - accuracy: 0.7532\n",
            "Epoch 34/150\n",
            "5/5 [==============================] - 0s 2ms/step - loss: 0.4426 - accuracy: 0.7484\n",
            "Epoch 35/150\n",
            "5/5 [==============================] - 0s 2ms/step - loss: 0.4367 - accuracy: 0.7596\n",
            "Epoch 36/150\n",
            "5/5 [==============================] - 0s 3ms/step - loss: 0.4387 - accuracy: 0.7468\n",
            "Epoch 37/150\n",
            "5/5 [==============================] - 0s 2ms/step - loss: 0.4354 - accuracy: 0.7500\n",
            "Epoch 38/150\n",
            "5/5 [==============================] - 0s 2ms/step - loss: 0.4653 - accuracy: 0.7420\n",
            "Epoch 39/150\n",
            "5/5 [==============================] - 0s 2ms/step - loss: 0.4704 - accuracy: 0.7277\n",
            "Epoch 40/150\n",
            "5/5 [==============================] - 0s 2ms/step - loss: 0.4488 - accuracy: 0.7500\n",
            "Epoch 41/150\n",
            "5/5 [==============================] - 0s 2ms/step - loss: 0.4445 - accuracy: 0.7484\n",
            "Epoch 42/150\n",
            "5/5 [==============================] - 0s 2ms/step - loss: 0.4507 - accuracy: 0.7357\n",
            "Epoch 43/150\n",
            "5/5 [==============================] - 0s 3ms/step - loss: 0.4449 - accuracy: 0.7516\n",
            "Epoch 44/150\n",
            "5/5 [==============================] - 0s 2ms/step - loss: 0.4427 - accuracy: 0.7452\n",
            "Epoch 45/150\n",
            "5/5 [==============================] - 0s 3ms/step - loss: 0.4356 - accuracy: 0.7516\n",
            "Epoch 46/150\n",
            "5/5 [==============================] - 0s 2ms/step - loss: 0.4498 - accuracy: 0.7420\n",
            "Epoch 47/150\n",
            "5/5 [==============================] - 0s 2ms/step - loss: 0.4451 - accuracy: 0.7436\n",
            "Epoch 48/150\n",
            "5/5 [==============================] - 0s 2ms/step - loss: 0.4375 - accuracy: 0.7580\n",
            "Epoch 49/150\n",
            "5/5 [==============================] - 0s 2ms/step - loss: 0.4397 - accuracy: 0.7516\n",
            "Epoch 50/150\n",
            "5/5 [==============================] - 0s 3ms/step - loss: 0.4393 - accuracy: 0.7452\n",
            "Epoch 51/150\n",
            "5/5 [==============================] - 0s 2ms/step - loss: 0.4363 - accuracy: 0.7548\n",
            "Epoch 52/150\n",
            "5/5 [==============================] - 0s 2ms/step - loss: 0.4349 - accuracy: 0.7548\n",
            "Epoch 53/150\n",
            "5/5 [==============================] - 0s 2ms/step - loss: 0.4487 - accuracy: 0.7516\n",
            "Epoch 54/150\n",
            "5/5 [==============================] - 0s 2ms/step - loss: 0.4445 - accuracy: 0.7420\n",
            "Epoch 55/150\n",
            "5/5 [==============================] - 0s 2ms/step - loss: 0.4375 - accuracy: 0.7452\n",
            "Epoch 56/150\n",
            "5/5 [==============================] - 0s 3ms/step - loss: 0.4379 - accuracy: 0.7532\n",
            "Epoch 57/150\n",
            "5/5 [==============================] - 0s 6ms/step - loss: 0.4424 - accuracy: 0.7500\n",
            "Epoch 58/150\n",
            "5/5 [==============================] - 0s 3ms/step - loss: 0.4469 - accuracy: 0.7532\n",
            "Epoch 59/150\n",
            "5/5 [==============================] - 0s 2ms/step - loss: 0.4537 - accuracy: 0.7468\n",
            "Epoch 60/150\n",
            "5/5 [==============================] - 0s 3ms/step - loss: 0.4584 - accuracy: 0.7484\n",
            "Epoch 61/150\n",
            "5/5 [==============================] - 0s 5ms/step - loss: 0.4456 - accuracy: 0.7596\n",
            "Epoch 62/150\n",
            "5/5 [==============================] - 0s 3ms/step - loss: 0.4446 - accuracy: 0.7452\n",
            "Epoch 63/150\n",
            "5/5 [==============================] - 0s 3ms/step - loss: 0.4430 - accuracy: 0.7468\n",
            "Epoch 64/150\n",
            "5/5 [==============================] - 0s 3ms/step - loss: 0.4459 - accuracy: 0.7484\n",
            "Epoch 65/150\n",
            "5/5 [==============================] - 0s 3ms/step - loss: 0.4372 - accuracy: 0.7564\n",
            "Epoch 66/150\n",
            "5/5 [==============================] - 0s 3ms/step - loss: 0.4374 - accuracy: 0.7548\n",
            "Epoch 67/150\n",
            "5/5 [==============================] - 0s 2ms/step - loss: 0.4331 - accuracy: 0.7516\n",
            "Epoch 68/150\n",
            "5/5 [==============================] - 0s 4ms/step - loss: 0.4366 - accuracy: 0.7532\n",
            "Epoch 69/150\n",
            "5/5 [==============================] - 0s 3ms/step - loss: 0.4404 - accuracy: 0.7500\n",
            "Epoch 70/150\n",
            "5/5 [==============================] - 0s 3ms/step - loss: 0.4322 - accuracy: 0.7580\n",
            "Epoch 71/150\n",
            "5/5 [==============================] - 0s 3ms/step - loss: 0.4383 - accuracy: 0.7516\n",
            "Epoch 72/150\n",
            "5/5 [==============================] - 0s 2ms/step - loss: 0.4418 - accuracy: 0.7484\n",
            "Epoch 73/150\n",
            "5/5 [==============================] - 0s 2ms/step - loss: 0.4334 - accuracy: 0.7564\n",
            "Epoch 74/150\n",
            "5/5 [==============================] - 0s 3ms/step - loss: 0.4366 - accuracy: 0.7548\n",
            "Epoch 75/150\n",
            "5/5 [==============================] - 0s 3ms/step - loss: 0.4381 - accuracy: 0.7548\n",
            "Epoch 76/150\n",
            "5/5 [==============================] - 0s 3ms/step - loss: 0.4401 - accuracy: 0.7436\n",
            "Epoch 77/150\n",
            "5/5 [==============================] - 0s 3ms/step - loss: 0.4402 - accuracy: 0.7548\n",
            "Epoch 78/150\n",
            "5/5 [==============================] - 0s 2ms/step - loss: 0.4333 - accuracy: 0.7580\n",
            "Epoch 79/150\n",
            "5/5 [==============================] - 0s 3ms/step - loss: 0.4398 - accuracy: 0.7516\n",
            "Epoch 80/150\n",
            "5/5 [==============================] - 0s 3ms/step - loss: 0.4462 - accuracy: 0.7468\n",
            "Epoch 81/150\n",
            "5/5 [==============================] - 0s 3ms/step - loss: 0.4369 - accuracy: 0.7564\n",
            "Epoch 82/150\n",
            "5/5 [==============================] - 0s 2ms/step - loss: 0.4344 - accuracy: 0.7548\n",
            "Epoch 83/150\n",
            "5/5 [==============================] - 0s 3ms/step - loss: 0.4351 - accuracy: 0.7516\n",
            "Epoch 84/150\n",
            "5/5 [==============================] - 0s 3ms/step - loss: 0.4337 - accuracy: 0.7516\n",
            "Epoch 85/150\n",
            "5/5 [==============================] - 0s 5ms/step - loss: 0.4345 - accuracy: 0.7500\n",
            "Epoch 86/150\n",
            "5/5 [==============================] - 0s 3ms/step - loss: 0.4337 - accuracy: 0.7548\n",
            "Epoch 87/150\n",
            "5/5 [==============================] - 0s 3ms/step - loss: 0.4366 - accuracy: 0.7596\n",
            "Epoch 88/150\n",
            "5/5 [==============================] - 0s 3ms/step - loss: 0.4390 - accuracy: 0.7548\n",
            "Epoch 89/150\n",
            "5/5 [==============================] - 0s 2ms/step - loss: 0.4349 - accuracy: 0.7580\n",
            "Epoch 90/150\n",
            "5/5 [==============================] - 0s 3ms/step - loss: 0.4484 - accuracy: 0.7516\n",
            "Epoch 91/150\n",
            "5/5 [==============================] - 0s 2ms/step - loss: 0.4386 - accuracy: 0.7516\n",
            "Epoch 92/150\n",
            "5/5 [==============================] - 0s 4ms/step - loss: 0.4333 - accuracy: 0.7627\n",
            "Epoch 93/150\n",
            "5/5 [==============================] - 0s 2ms/step - loss: 0.4337 - accuracy: 0.7532\n",
            "Epoch 94/150\n",
            "5/5 [==============================] - 0s 2ms/step - loss: 0.4332 - accuracy: 0.7580\n",
            "Epoch 95/150\n",
            "5/5 [==============================] - 0s 2ms/step - loss: 0.4336 - accuracy: 0.7548\n",
            "Epoch 96/150\n",
            "5/5 [==============================] - 0s 2ms/step - loss: 0.4498 - accuracy: 0.7468\n",
            "Epoch 97/150\n",
            "5/5 [==============================] - 0s 2ms/step - loss: 0.4386 - accuracy: 0.7532\n",
            "Epoch 98/150\n",
            "5/5 [==============================] - 0s 2ms/step - loss: 0.4390 - accuracy: 0.7516\n",
            "Epoch 99/150\n",
            "5/5 [==============================] - 0s 2ms/step - loss: 0.4415 - accuracy: 0.7500\n",
            "Epoch 100/150\n",
            "5/5 [==============================] - 0s 2ms/step - loss: 0.4396 - accuracy: 0.7516\n",
            "Epoch 101/150\n",
            "5/5 [==============================] - 0s 2ms/step - loss: 0.4328 - accuracy: 0.7564\n",
            "Epoch 102/150\n",
            "5/5 [==============================] - 0s 3ms/step - loss: 0.4331 - accuracy: 0.7627\n",
            "Epoch 103/150\n",
            "5/5 [==============================] - 0s 3ms/step - loss: 0.4361 - accuracy: 0.7484\n",
            "Epoch 104/150\n",
            "5/5 [==============================] - 0s 3ms/step - loss: 0.4459 - accuracy: 0.7468\n",
            "Epoch 105/150\n",
            "5/5 [==============================] - 0s 2ms/step - loss: 0.4326 - accuracy: 0.7564\n",
            "Epoch 106/150\n",
            "5/5 [==============================] - 0s 5ms/step - loss: 0.4312 - accuracy: 0.7516\n",
            "Epoch 107/150\n",
            "5/5 [==============================] - 0s 4ms/step - loss: 0.4358 - accuracy: 0.7548\n",
            "Epoch 108/150\n",
            "5/5 [==============================] - 0s 3ms/step - loss: 0.4306 - accuracy: 0.7564\n",
            "Epoch 109/150\n",
            "5/5 [==============================] - 0s 3ms/step - loss: 0.4305 - accuracy: 0.7596\n",
            "Epoch 110/150\n",
            "5/5 [==============================] - 0s 2ms/step - loss: 0.4327 - accuracy: 0.7548\n",
            "Epoch 111/150\n",
            "5/5 [==============================] - 0s 3ms/step - loss: 0.4362 - accuracy: 0.7516\n",
            "Epoch 112/150\n",
            "5/5 [==============================] - 0s 3ms/step - loss: 0.4314 - accuracy: 0.7516\n",
            "Epoch 113/150\n",
            "5/5 [==============================] - 0s 3ms/step - loss: 0.4363 - accuracy: 0.7516\n",
            "Epoch 114/150\n",
            "5/5 [==============================] - 0s 3ms/step - loss: 0.4391 - accuracy: 0.7452\n",
            "Epoch 115/150\n",
            "5/5 [==============================] - 0s 3ms/step - loss: 0.4373 - accuracy: 0.7548\n",
            "Epoch 116/150\n",
            "5/5 [==============================] - 0s 3ms/step - loss: 0.4304 - accuracy: 0.7564\n",
            "Epoch 117/150\n",
            "5/5 [==============================] - 0s 2ms/step - loss: 0.4400 - accuracy: 0.7516\n",
            "Epoch 118/150\n",
            "5/5 [==============================] - 0s 3ms/step - loss: 0.4381 - accuracy: 0.7484\n",
            "Epoch 119/150\n",
            "5/5 [==============================] - 0s 3ms/step - loss: 0.4387 - accuracy: 0.7580\n",
            "Epoch 120/150\n",
            "5/5 [==============================] - 0s 3ms/step - loss: 0.4381 - accuracy: 0.7580\n",
            "Epoch 121/150\n",
            "5/5 [==============================] - 0s 2ms/step - loss: 0.4411 - accuracy: 0.7532\n",
            "Epoch 122/150\n",
            "5/5 [==============================] - 0s 3ms/step - loss: 0.4296 - accuracy: 0.7596\n",
            "Epoch 123/150\n",
            "5/5 [==============================] - 0s 2ms/step - loss: 0.4293 - accuracy: 0.7548\n",
            "Epoch 124/150\n",
            "5/5 [==============================] - 0s 2ms/step - loss: 0.4313 - accuracy: 0.7596\n",
            "Epoch 125/150\n",
            "5/5 [==============================] - 0s 2ms/step - loss: 0.4359 - accuracy: 0.7548\n",
            "Epoch 126/150\n",
            "5/5 [==============================] - 0s 2ms/step - loss: 0.4533 - accuracy: 0.7373\n",
            "Epoch 127/150\n",
            "5/5 [==============================] - 0s 3ms/step - loss: 0.4433 - accuracy: 0.7468\n",
            "Epoch 128/150\n",
            "5/5 [==============================] - 0s 4ms/step - loss: 0.4312 - accuracy: 0.7548\n",
            "Epoch 129/150\n",
            "5/5 [==============================] - 0s 3ms/step - loss: 0.4357 - accuracy: 0.7532\n",
            "Epoch 130/150\n",
            "5/5 [==============================] - 0s 3ms/step - loss: 0.4319 - accuracy: 0.7532\n",
            "Epoch 131/150\n",
            "5/5 [==============================] - 0s 3ms/step - loss: 0.4379 - accuracy: 0.7500\n",
            "Epoch 132/150\n",
            "5/5 [==============================] - 0s 3ms/step - loss: 0.4326 - accuracy: 0.7564\n",
            "Epoch 133/150\n",
            "5/5 [==============================] - 0s 3ms/step - loss: 0.4288 - accuracy: 0.7564\n",
            "Epoch 134/150\n",
            "5/5 [==============================] - 0s 3ms/step - loss: 0.4283 - accuracy: 0.7516\n",
            "Epoch 135/150\n",
            "5/5 [==============================] - 0s 3ms/step - loss: 0.4344 - accuracy: 0.7548\n",
            "Epoch 136/150\n",
            "5/5 [==============================] - 0s 4ms/step - loss: 0.4342 - accuracy: 0.7532\n",
            "Epoch 137/150\n",
            "5/5 [==============================] - 0s 4ms/step - loss: 0.4290 - accuracy: 0.7532\n",
            "Epoch 138/150\n",
            "5/5 [==============================] - 0s 3ms/step - loss: 0.4448 - accuracy: 0.7516\n",
            "Epoch 139/150\n",
            "5/5 [==============================] - 0s 4ms/step - loss: 0.4394 - accuracy: 0.7468\n",
            "Epoch 140/150\n",
            "5/5 [==============================] - 0s 4ms/step - loss: 0.4294 - accuracy: 0.7596\n",
            "Epoch 141/150\n",
            "5/5 [==============================] - 0s 3ms/step - loss: 0.4366 - accuracy: 0.7564\n",
            "Epoch 142/150\n",
            "5/5 [==============================] - 0s 3ms/step - loss: 0.4377 - accuracy: 0.7420\n",
            "Epoch 143/150\n",
            "5/5 [==============================] - 0s 4ms/step - loss: 0.4289 - accuracy: 0.7627\n",
            "Epoch 144/150\n",
            "5/5 [==============================] - 0s 2ms/step - loss: 0.4339 - accuracy: 0.7532\n",
            "Epoch 145/150\n",
            "5/5 [==============================] - 0s 3ms/step - loss: 0.4415 - accuracy: 0.7548\n",
            "Epoch 146/150\n",
            "5/5 [==============================] - 0s 3ms/step - loss: 0.4464 - accuracy: 0.7484\n",
            "Epoch 147/150\n",
            "5/5 [==============================] - 0s 3ms/step - loss: 0.4403 - accuracy: 0.7627\n",
            "Epoch 148/150\n",
            "5/5 [==============================] - 0s 2ms/step - loss: 0.4352 - accuracy: 0.7500\n",
            "Epoch 149/150\n",
            "5/5 [==============================] - 0s 4ms/step - loss: 0.4354 - accuracy: 0.7580\n",
            "Epoch 150/150\n",
            "5/5 [==============================] - 0s 4ms/step - loss: 0.4320 - accuracy: 0.7548\n"
          ],
          "name": "stdout"
        },
        {
          "output_type": "execute_result",
          "data": {
            "text/plain": [
              "Ellipsis"
            ]
          },
          "metadata": {
            "tags": []
          },
          "execution_count": 61
        }
      ]
    },
    {
      "cell_type": "code",
      "metadata": {
        "colab": {
          "base_uri": "https://localhost:8080/"
        },
        "id": "f814Cfg6gSe5",
        "outputId": "dc433906-1751-4927-b66c-24253973fe40"
      },
      "source": [
        "...\r\n",
        "# evaluate the keras model\r\n",
        "_, accuracy = model.evaluate(X_train, y_train)\r\n",
        "print('Accuracy: %.2f' % (accuracy*100))"
      ],
      "execution_count": 62,
      "outputs": [
        {
          "output_type": "stream",
          "text": [
            "20/20 [==============================] - 0s 1ms/step - loss: 0.4273 - accuracy: 0.7580\n",
            "Accuracy: 75.80\n"
          ],
          "name": "stdout"
        }
      ]
    },
    {
      "cell_type": "code",
      "metadata": {
        "colab": {
          "base_uri": "https://localhost:8080/"
        },
        "id": "-tRm_wVmggNx",
        "outputId": "de3c99a3-bc79-422b-85a7-3469296c11cd"
      },
      "source": [
        "...\r\n",
        "# evaluate the keras model\r\n",
        "_, accuracy = model.evaluate(X_test, y_test)\r\n",
        "print('Accuracy: %.2f' % (accuracy*100))"
      ],
      "execution_count": 64,
      "outputs": [
        {
          "output_type": "stream",
          "text": [
            "5/5 [==============================] - 0s 2ms/step - loss: 0.6130 - accuracy: 0.6714\n",
            "Accuracy: 67.14\n"
          ],
          "name": "stdout"
        }
      ]
    },
    {
      "cell_type": "code",
      "metadata": {
        "id": "y1vayEcWgjCS"
      },
      "source": [
        "\r\n",
        "4\r\n",
        "5\r\n",
        "...\r\n",
        "# make probability predictions with the model\r\n",
        "predictions = model.predict(X_test)\r\n",
        "# round predictions \r\n",
        "rounded = [round(x[0]) for x in predictions]"
      ],
      "execution_count": 68,
      "outputs": []
    },
    {
      "cell_type": "code",
      "metadata": {
        "colab": {
          "base_uri": "https://localhost:8080/"
        },
        "id": "MoDhP2Pog-76",
        "outputId": "75c3c042-45f4-46bd-b13c-76903faccb7e"
      },
      "source": [
        "type(X_train)"
      ],
      "execution_count": 48,
      "outputs": [
        {
          "output_type": "execute_result",
          "data": {
            "text/plain": [
              "pandas.core.frame.DataFrame"
            ]
          },
          "metadata": {
            "tags": []
          },
          "execution_count": 48
        }
      ]
    },
    {
      "cell_type": "code",
      "metadata": {
        "colab": {
          "base_uri": "https://localhost:8080/"
        },
        "id": "kGJjAmzzhxRM",
        "outputId": "5dd67683-6c4c-4e9f-caa3-a3c118a81ebe"
      },
      "source": [
        "rounded"
      ],
      "execution_count": 69,
      "outputs": [
        {
          "output_type": "execute_result",
          "data": {
            "text/plain": [
              "[0,\n",
              " 0,\n",
              " 1,\n",
              " 0,\n",
              " 0,\n",
              " 0,\n",
              " 0,\n",
              " 0,\n",
              " 1,\n",
              " 1,\n",
              " 0,\n",
              " 0,\n",
              " 1,\n",
              " 0,\n",
              " 1,\n",
              " 0,\n",
              " 1,\n",
              " 0,\n",
              " 0,\n",
              " 0,\n",
              " 0,\n",
              " 1,\n",
              " 0,\n",
              " 0,\n",
              " 0,\n",
              " 0,\n",
              " 1,\n",
              " 1,\n",
              " 0,\n",
              " 0,\n",
              " 0,\n",
              " 0,\n",
              " 0,\n",
              " 1,\n",
              " 0,\n",
              " 0,\n",
              " 0,\n",
              " 0,\n",
              " 0,\n",
              " 0,\n",
              " 0,\n",
              " 1,\n",
              " 0,\n",
              " 1,\n",
              " 0,\n",
              " 1,\n",
              " 1,\n",
              " 0,\n",
              " 0,\n",
              " 0,\n",
              " 0,\n",
              " 0,\n",
              " 0,\n",
              " 0,\n",
              " 0,\n",
              " 0,\n",
              " 0,\n",
              " 1,\n",
              " 0,\n",
              " 1,\n",
              " 0,\n",
              " 0,\n",
              " 0,\n",
              " 1,\n",
              " 0,\n",
              " 0,\n",
              " 1,\n",
              " 0,\n",
              " 0,\n",
              " 0,\n",
              " 1,\n",
              " 0,\n",
              " 0,\n",
              " 0,\n",
              " 0,\n",
              " 0,\n",
              " 0,\n",
              " 0,\n",
              " 0,\n",
              " 0,\n",
              " 0,\n",
              " 0,\n",
              " 0,\n",
              " 0,\n",
              " 0,\n",
              " 0,\n",
              " 0,\n",
              " 0,\n",
              " 0,\n",
              " 0,\n",
              " 0,\n",
              " 0,\n",
              " 0,\n",
              " 0,\n",
              " 0,\n",
              " 0,\n",
              " 0,\n",
              " 0,\n",
              " 0,\n",
              " 1,\n",
              " 0,\n",
              " 0,\n",
              " 0,\n",
              " 0,\n",
              " 1,\n",
              " 0,\n",
              " 0,\n",
              " 0,\n",
              " 0,\n",
              " 0,\n",
              " 0,\n",
              " 0,\n",
              " 0,\n",
              " 0,\n",
              " 0,\n",
              " 0,\n",
              " 0,\n",
              " 0,\n",
              " 1,\n",
              " 0,\n",
              " 0,\n",
              " 0,\n",
              " 0,\n",
              " 1,\n",
              " 0,\n",
              " 0,\n",
              " 0,\n",
              " 0,\n",
              " 0,\n",
              " 0,\n",
              " 0,\n",
              " 0,\n",
              " 0,\n",
              " 0,\n",
              " 0,\n",
              " 0,\n",
              " 0,\n",
              " 0,\n",
              " 1,\n",
              " 0]"
            ]
          },
          "metadata": {
            "tags": []
          },
          "execution_count": 69
        }
      ]
    },
    {
      "cell_type": "code",
      "metadata": {
        "id": "Rf5Ly_CnjcrG"
      },
      "source": [
        ""
      ],
      "execution_count": null,
      "outputs": []
    }
  ]
}